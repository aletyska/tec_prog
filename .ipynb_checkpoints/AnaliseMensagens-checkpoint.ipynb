{
 "cells": [
  {
   "cell_type": "code",
   "execution_count": null,
   "id": "f05934c7-dc7a-4a9a-a602-98fab96b71b5",
   "metadata": {},
   "outputs": [],
   "source": [
    "# Imports gerais"
   ]
  },
  {
   "cell_type": "code",
   "execution_count": null,
   "id": "22fb44f0-60bb-4a1e-b1d9-4e92d02455c0",
   "metadata": {},
   "outputs": [],
   "source": [
    "# Definição de Classes\n",
    "class Mensagem:\n",
    "    def __init__(self, mensagem_original, classificacao):\n",
    "        self.MensagemOriginal = mensagem_original\n",
    "        self.Classificacao = classificacao\n",
    "        self.MensagemTratada = None\n",
    "        self.MensagemTokenizada = None\n",
    "        self.QuantidadeCaracteres = 0\n",
    "        self.QuantidadePalavras = 0\n",
    "        self.QuantidadeVerbos = 0\n",
    "        self.QuantidadeSubstantivos = 0\n",
    "        self.ArvoreSintagmas = None\n",
    "\n",
    "    def ConstroiArvoreSintagmas(self):\n",
    "        # Lógica para construir a árvore de sintagmas\n",
    "        pass\n",
    "\n",
    "\n",
    "class BaseMensagens:\n",
    "    def __init__(self):\n",
    "        self.BaseMensagens = []  # Lista de objetos Mensagem\n",
    "\n",
    "    def Exec(self):\n",
    "        # Lógica para execução genérica\n",
    "        pass\n",
    "\n",
    "\n",
    "class BaseTreinamento(BaseMensagens):\n",
    "    def __init__(self):\n",
    "        super().__init__()\n",
    "\n",
    "    def Exec(self):\n",
    "        # Lógica específica de treinamento\n",
    "        pass\n",
    "\n",
    "class BaseTeste(BaseMensagens):\n",
    "    def __init__(self):\n",
    "        super().__init__()\n",
    "        self.Acuracidade = 0.0\n",
    "\n",
    "    def Exec(self):\n",
    "        # Lógica específica de teste\n",
    "        pass\n"
   ]
  }
 ],
 "metadata": {
  "kernelspec": {
   "display_name": "Python 3 (ipykernel)",
   "language": "python",
   "name": "python3"
  },
  "language_info": {
   "codemirror_mode": {
    "name": "ipython",
    "version": 3
   },
   "file_extension": ".py",
   "mimetype": "text/x-python",
   "name": "python",
   "nbconvert_exporter": "python",
   "pygments_lexer": "ipython3",
   "version": "3.12.9"
  }
 },
 "nbformat": 4,
 "nbformat_minor": 5
}
