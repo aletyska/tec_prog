{
 "cells": [
  {
   "cell_type": "code",
   "execution_count": 15,
   "id": "e1f29453-24cd-40d0-8804-6b139064f46e",
   "metadata": {},
   "outputs": [
    {
     "name": "stdout",
     "output_type": "stream",
     "text": [
      "Requirement already satisfied: kagglehub in /home/aletyska/anaconda3/envs/tec_prog/lib/python3.12/site-packages (0.3.12)\n",
      "Requirement already satisfied: packaging in /home/aletyska/anaconda3/envs/tec_prog/lib/python3.12/site-packages (from kagglehub) (25.0)\n",
      "Requirement already satisfied: pyyaml in /home/aletyska/anaconda3/envs/tec_prog/lib/python3.12/site-packages (from kagglehub) (6.0.2)\n",
      "Requirement already satisfied: requests in /home/aletyska/anaconda3/envs/tec_prog/lib/python3.12/site-packages (from kagglehub) (2.32.3)\n",
      "Requirement already satisfied: tqdm in /home/aletyska/anaconda3/envs/tec_prog/lib/python3.12/site-packages (from kagglehub) (4.67.1)\n",
      "Requirement already satisfied: charset-normalizer<4,>=2 in /home/aletyska/anaconda3/envs/tec_prog/lib/python3.12/site-packages (from requests->kagglehub) (3.4.2)\n",
      "Requirement already satisfied: idna<4,>=2.5 in /home/aletyska/anaconda3/envs/tec_prog/lib/python3.12/site-packages (from requests->kagglehub) (3.10)\n",
      "Requirement already satisfied: urllib3<3,>=1.21.1 in /home/aletyska/anaconda3/envs/tec_prog/lib/python3.12/site-packages (from requests->kagglehub) (2.4.0)\n",
      "Requirement already satisfied: certifi>=2017.4.17 in /home/aletyska/anaconda3/envs/tec_prog/lib/python3.12/site-packages (from requests->kagglehub) (2025.4.26)\n",
      "Requirement already satisfied: pandas in /home/aletyska/anaconda3/envs/tec_prog/lib/python3.12/site-packages (2.2.3)\n",
      "Requirement already satisfied: numpy>=1.26.0 in /home/aletyska/anaconda3/envs/tec_prog/lib/python3.12/site-packages (from pandas) (2.2.6)\n",
      "Requirement already satisfied: python-dateutil>=2.8.2 in /home/aletyska/anaconda3/envs/tec_prog/lib/python3.12/site-packages (from pandas) (2.9.0.post0)\n",
      "Requirement already satisfied: pytz>=2020.1 in /home/aletyska/anaconda3/envs/tec_prog/lib/python3.12/site-packages (from pandas) (2025.2)\n",
      "Requirement already satisfied: tzdata>=2022.7 in /home/aletyska/anaconda3/envs/tec_prog/lib/python3.12/site-packages (from pandas) (2025.2)\n",
      "Requirement already satisfied: six>=1.5 in /home/aletyska/anaconda3/envs/tec_prog/lib/python3.12/site-packages (from python-dateutil>=2.8.2->pandas) (1.17.0)\n",
      "Requirement already satisfied: nltk in /home/aletyska/anaconda3/envs/tec_prog/lib/python3.12/site-packages (3.9.1)\n",
      "Requirement already satisfied: click in /home/aletyska/anaconda3/envs/tec_prog/lib/python3.12/site-packages (from nltk) (8.2.1)\n",
      "Requirement already satisfied: joblib in /home/aletyska/anaconda3/envs/tec_prog/lib/python3.12/site-packages (from nltk) (1.5.1)\n",
      "Requirement already satisfied: regex>=2021.8.3 in /home/aletyska/anaconda3/envs/tec_prog/lib/python3.12/site-packages (from nltk) (2024.11.6)\n",
      "Requirement already satisfied: tqdm in /home/aletyska/anaconda3/envs/tec_prog/lib/python3.12/site-packages (from nltk) (4.67.1)\n",
      "Requirement already satisfied: transformers in /home/aletyska/anaconda3/envs/tec_prog/lib/python3.12/site-packages (4.52.4)\n",
      "Requirement already satisfied: filelock in /home/aletyska/anaconda3/envs/tec_prog/lib/python3.12/site-packages (from transformers) (3.18.0)\n",
      "Requirement already satisfied: huggingface-hub<1.0,>=0.30.0 in /home/aletyska/anaconda3/envs/tec_prog/lib/python3.12/site-packages (from transformers) (0.32.4)\n",
      "Requirement already satisfied: numpy>=1.17 in /home/aletyska/anaconda3/envs/tec_prog/lib/python3.12/site-packages (from transformers) (2.2.6)\n",
      "Requirement already satisfied: packaging>=20.0 in /home/aletyska/anaconda3/envs/tec_prog/lib/python3.12/site-packages (from transformers) (25.0)\n",
      "Requirement already satisfied: pyyaml>=5.1 in /home/aletyska/anaconda3/envs/tec_prog/lib/python3.12/site-packages (from transformers) (6.0.2)\n",
      "Requirement already satisfied: regex!=2019.12.17 in /home/aletyska/anaconda3/envs/tec_prog/lib/python3.12/site-packages (from transformers) (2024.11.6)\n",
      "Requirement already satisfied: requests in /home/aletyska/anaconda3/envs/tec_prog/lib/python3.12/site-packages (from transformers) (2.32.3)\n",
      "Requirement already satisfied: tokenizers<0.22,>=0.21 in /home/aletyska/anaconda3/envs/tec_prog/lib/python3.12/site-packages (from transformers) (0.21.1)\n",
      "Requirement already satisfied: safetensors>=0.4.3 in /home/aletyska/anaconda3/envs/tec_prog/lib/python3.12/site-packages (from transformers) (0.5.3)\n",
      "Requirement already satisfied: tqdm>=4.27 in /home/aletyska/anaconda3/envs/tec_prog/lib/python3.12/site-packages (from transformers) (4.67.1)\n",
      "Requirement already satisfied: fsspec>=2023.5.0 in /home/aletyska/anaconda3/envs/tec_prog/lib/python3.12/site-packages (from huggingface-hub<1.0,>=0.30.0->transformers) (2025.5.1)\n",
      "Requirement already satisfied: typing-extensions>=3.7.4.3 in /home/aletyska/anaconda3/envs/tec_prog/lib/python3.12/site-packages (from huggingface-hub<1.0,>=0.30.0->transformers) (4.14.0)\n",
      "Requirement already satisfied: hf-xet<2.0.0,>=1.1.2 in /home/aletyska/anaconda3/envs/tec_prog/lib/python3.12/site-packages (from huggingface-hub<1.0,>=0.30.0->transformers) (1.1.3)\n",
      "Requirement already satisfied: charset-normalizer<4,>=2 in /home/aletyska/anaconda3/envs/tec_prog/lib/python3.12/site-packages (from requests->transformers) (3.4.2)\n",
      "Requirement already satisfied: idna<4,>=2.5 in /home/aletyska/anaconda3/envs/tec_prog/lib/python3.12/site-packages (from requests->transformers) (3.10)\n",
      "Requirement already satisfied: urllib3<3,>=1.21.1 in /home/aletyska/anaconda3/envs/tec_prog/lib/python3.12/site-packages (from requests->transformers) (2.4.0)\n",
      "Requirement already satisfied: certifi>=2017.4.17 in /home/aletyska/anaconda3/envs/tec_prog/lib/python3.12/site-packages (from requests->transformers) (2025.4.26)\n",
      "Requirement already satisfied: torch in /home/aletyska/anaconda3/envs/tec_prog/lib/python3.12/site-packages (2.7.1)\n",
      "Requirement already satisfied: torchvision in /home/aletyska/anaconda3/envs/tec_prog/lib/python3.12/site-packages (0.22.1)\n",
      "Requirement already satisfied: torchaudio in /home/aletyska/anaconda3/envs/tec_prog/lib/python3.12/site-packages (2.7.1)\n",
      "Requirement already satisfied: filelock in /home/aletyska/anaconda3/envs/tec_prog/lib/python3.12/site-packages (from torch) (3.18.0)\n",
      "Requirement already satisfied: typing-extensions>=4.10.0 in /home/aletyska/anaconda3/envs/tec_prog/lib/python3.12/site-packages (from torch) (4.14.0)\n",
      "Requirement already satisfied: setuptools in /home/aletyska/anaconda3/envs/tec_prog/lib/python3.12/site-packages (from torch) (78.1.1)\n",
      "Requirement already satisfied: sympy>=1.13.3 in /home/aletyska/anaconda3/envs/tec_prog/lib/python3.12/site-packages (from torch) (1.14.0)\n",
      "Requirement already satisfied: networkx in /home/aletyska/anaconda3/envs/tec_prog/lib/python3.12/site-packages (from torch) (3.5)\n",
      "Requirement already satisfied: jinja2 in /home/aletyska/anaconda3/envs/tec_prog/lib/python3.12/site-packages (from torch) (3.1.6)\n",
      "Requirement already satisfied: fsspec in /home/aletyska/anaconda3/envs/tec_prog/lib/python3.12/site-packages (from torch) (2025.5.1)\n",
      "Requirement already satisfied: nvidia-cuda-nvrtc-cu12==12.6.77 in /home/aletyska/anaconda3/envs/tec_prog/lib/python3.12/site-packages (from torch) (12.6.77)\n",
      "Requirement already satisfied: nvidia-cuda-runtime-cu12==12.6.77 in /home/aletyska/anaconda3/envs/tec_prog/lib/python3.12/site-packages (from torch) (12.6.77)\n",
      "Requirement already satisfied: nvidia-cuda-cupti-cu12==12.6.80 in /home/aletyska/anaconda3/envs/tec_prog/lib/python3.12/site-packages (from torch) (12.6.80)\n",
      "Requirement already satisfied: nvidia-cudnn-cu12==9.5.1.17 in /home/aletyska/anaconda3/envs/tec_prog/lib/python3.12/site-packages (from torch) (9.5.1.17)\n",
      "Requirement already satisfied: nvidia-cublas-cu12==12.6.4.1 in /home/aletyska/anaconda3/envs/tec_prog/lib/python3.12/site-packages (from torch) (12.6.4.1)\n",
      "Requirement already satisfied: nvidia-cufft-cu12==11.3.0.4 in /home/aletyska/anaconda3/envs/tec_prog/lib/python3.12/site-packages (from torch) (11.3.0.4)\n",
      "Requirement already satisfied: nvidia-curand-cu12==10.3.7.77 in /home/aletyska/anaconda3/envs/tec_prog/lib/python3.12/site-packages (from torch) (10.3.7.77)\n",
      "Requirement already satisfied: nvidia-cusolver-cu12==11.7.1.2 in /home/aletyska/anaconda3/envs/tec_prog/lib/python3.12/site-packages (from torch) (11.7.1.2)\n",
      "Requirement already satisfied: nvidia-cusparse-cu12==12.5.4.2 in /home/aletyska/anaconda3/envs/tec_prog/lib/python3.12/site-packages (from torch) (12.5.4.2)\n",
      "Requirement already satisfied: nvidia-cusparselt-cu12==0.6.3 in /home/aletyska/anaconda3/envs/tec_prog/lib/python3.12/site-packages (from torch) (0.6.3)\n",
      "Requirement already satisfied: nvidia-nccl-cu12==2.26.2 in /home/aletyska/anaconda3/envs/tec_prog/lib/python3.12/site-packages (from torch) (2.26.2)\n",
      "Requirement already satisfied: nvidia-nvtx-cu12==12.6.77 in /home/aletyska/anaconda3/envs/tec_prog/lib/python3.12/site-packages (from torch) (12.6.77)\n",
      "Requirement already satisfied: nvidia-nvjitlink-cu12==12.6.85 in /home/aletyska/anaconda3/envs/tec_prog/lib/python3.12/site-packages (from torch) (12.6.85)\n",
      "Requirement already satisfied: nvidia-cufile-cu12==1.11.1.6 in /home/aletyska/anaconda3/envs/tec_prog/lib/python3.12/site-packages (from torch) (1.11.1.6)\n",
      "Requirement already satisfied: triton==3.3.1 in /home/aletyska/anaconda3/envs/tec_prog/lib/python3.12/site-packages (from torch) (3.3.1)\n",
      "Requirement already satisfied: numpy in /home/aletyska/anaconda3/envs/tec_prog/lib/python3.12/site-packages (from torchvision) (2.2.6)\n",
      "Requirement already satisfied: pillow!=8.3.*,>=5.3.0 in /home/aletyska/anaconda3/envs/tec_prog/lib/python3.12/site-packages (from torchvision) (11.2.1)\n",
      "Requirement already satisfied: mpmath<1.4,>=1.1.0 in /home/aletyska/anaconda3/envs/tec_prog/lib/python3.12/site-packages (from sympy>=1.13.3->torch) (1.3.0)\n",
      "Requirement already satisfied: MarkupSafe>=2.0 in /home/aletyska/anaconda3/envs/tec_prog/lib/python3.12/site-packages (from jinja2->torch) (3.0.2)\n",
      "Collecting emoji\n",
      "  Downloading emoji-2.14.1-py3-none-any.whl.metadata (5.7 kB)\n",
      "Downloading emoji-2.14.1-py3-none-any.whl (590 kB)\n",
      "\u001b[2K   \u001b[90m━━━━━━━━━━━━━━━━━━━━━━━━━━━━━━━━━━━━━━━━\u001b[0m \u001b[32m590.6/590.6 kB\u001b[0m \u001b[31m6.2 MB/s\u001b[0m eta \u001b[36m0:00:00\u001b[0m\n",
      "\u001b[?25hInstalling collected packages: emoji\n",
      "Successfully installed emoji-2.14.1\n"
     ]
    }
   ],
   "source": [
    "!pip install kagglehub\n",
    "!pip install pandas\n",
    "!pip install nltk\n",
    "!pip install transformers\n",
    "!pip install torch torchvision torchaudio\n",
    "!pip install emoji"
   ]
  },
  {
   "cell_type": "code",
   "execution_count": 25,
   "id": "32332e73-2d70-405a-8f98-c01c1d1466e7",
   "metadata": {},
   "outputs": [
    {
     "name": "stderr",
     "output_type": "stream",
     "text": [
      "[nltk_data] Downloading package averaged_perceptron_tagger_eng to\n",
      "[nltk_data]     /home/aletyska/nltk_data...\n",
      "[nltk_data]   Unzipping taggers/averaged_perceptron_tagger_eng.zip.\n"
     ]
    },
    {
     "data": {
      "text/plain": [
       "True"
      ]
     },
     "execution_count": 25,
     "metadata": {},
     "output_type": "execute_result"
    }
   ],
   "source": [
    "nltk.download('averaged_perceptron_tagger_eng')\n"
   ]
  },
  {
   "cell_type": "code",
   "execution_count": 44,
   "id": "f05934c7-dc7a-4a9a-a602-98fab96b71b5",
   "metadata": {},
   "outputs": [
    {
     "name": "stderr",
     "output_type": "stream",
     "text": [
      "[nltk_data] Downloading package punkt to /home/aletyska/nltk_data...\n",
      "[nltk_data]   Package punkt is already up-to-date!\n",
      "[nltk_data] Downloading package averaged_perceptron_tagger_eng to\n",
      "[nltk_data]     /home/aletyska/nltk_data...\n",
      "[nltk_data]   Package averaged_perceptron_tagger_eng is already up-to-\n",
      "[nltk_data]       date!\n"
     ]
    }
   ],
   "source": [
    "# Imports Dataset Kaggle\n",
    "import kagglehub\n",
    "import pandas as pd\n",
    "import nltk\n",
    "import re\n",
    "from nltk.tokenize import sent_tokenize\n",
    "from nltk.tokenize import word_tokenize\n",
    "from nltk import pos_tag\n",
    "from transformers import BertTokenizer\n",
    "import emoji\n",
    "# Download latest version\n",
    "path = kagglehub.dataset_download(\"mariumfaheem666/spam-sms-classification-using-nlp\")+\"/\"+\"Spam_SMS.csv\"\n",
    "nltk.download('punkt')\n",
    "nltk.download('averaged_perceptron_tagger_eng')\n",
    "tokenizer = BertTokenizer.from_pretrained('bert-base-uncased')"
   ]
  },
  {
   "cell_type": "code",
   "execution_count": 68,
   "id": "22fb44f0-60bb-4a1e-b1d9-4e92d02455c0",
   "metadata": {},
   "outputs": [],
   "source": [
    "# Definição de Classes\n",
    "class Mensagem:\n",
    "    def __init__(self, mensagem_original, classificacao):\n",
    "        self.MensagemOriginal = mensagem_original\n",
    "        self.Classificacao = classificacao\n",
    "\n",
    "        #variável temporária para tratamentos\n",
    "        text = self.MensagemOriginal\n",
    "        text = emoji.demojize(text, language='en')\n",
    "        text = re.sub(r'https?://\\S+|www\\.\\S+', '', text)\n",
    "        text = text.encode(\"utf-8\", \"ignore\").decode()  \n",
    "        text = re.sub(r'<.*?>', '', text)\n",
    "        text = re.sub(r'\\s+', ' ', text)\n",
    "        sentences = sent_tokenize(text)\n",
    "        cleaned_sentences = [s.strip() for s in sentences]\n",
    "        \n",
    "        # Msg Tratada (limpa)\n",
    "        self.MensagemTratada = ' '.join(cleaned_sentences)\n",
    "        \n",
    "        # Msg Tokenizada\n",
    "        self.MensagemTokenizada = word_tokenize(self.MensagemTratada)\n",
    "\n",
    "        # Msg Tokenizada para o Bert\n",
    "        self.MensagemTokenizadaBert = tokenizer.encode_plus(\n",
    "            self.MensagemTratada,\n",
    "            add_special_tokens=True,     # Add [CLS] and [SEP]\n",
    "            padding='max_length',        # Pad to max length (or truncate)\n",
    "            truncation=True,             # Truncate to fit max length\n",
    "            max_length=128,              # You can adjust this\n",
    "            return_tensors='pt'          # Return PyTorch tensors\n",
    "        )\n",
    "        \n",
    "        self.QuantidadeCaracteres = len(self.MensagemTratada)\n",
    "        self.QuantidadePalavras = len(self.MensagemTokenizada)\n",
    "\n",
    "        tagged = pos_tag(self.MensagemTokenizada)\n",
    "        verbs = [word for word, tag in tagged if tag.startswith('VB')]\n",
    "        self.QuantidadeVerbos = len(verbs)\n",
    "        nouns = [word for word, tag in tagged if tag.startswith('NN')]\n",
    "        self.QuantidadeSubstantivos = len(nouns)\n",
    "\n",
    "    def ConstroiArvoreSintagmas(self):\n",
    "        # Lógica para construir a árvore de sintagmas\n",
    "        self.ArvoreSintagmas = None\n",
    "\n",
    "    def ExibirDadosMensagem(self):\n",
    "        print('Mensagem Original: '+ self.MensagemOriginal)\n",
    "        print('Classificação: '+ self.Classificacao)\n",
    "        print('-----------------------------------------------------------------------------------------------------')\n",
    "        print('Mensagem Tratada: '+ self.MensagemTratada)\n",
    "        print('Mensagem Tokenizada: '+ '|'.join(self.MensagemTokenizada))\n",
    "        print('Quantidade de Caracteres: '+ str(self.QuantidadeCaracteres))\n",
    "        print('Quantidade de Palavras: '+ str(self.QuantidadePalavras))\n",
    "        print('Quantidade de Verbos: '+ str(self.QuantidadeVerbos))\n",
    "        print('Quantidade de Substantivos: '+ str(self.QuantidadeSubstantivos))\n",
    "        \n",
    "\n",
    "\n",
    "class BaseMensagens:\n",
    "    def __init__(self, listamsgs):\n",
    "        self.BaseMensagens = []\n",
    "        for index, row in listamsgs.iterrows():\n",
    "            self.BaseMensagens.append(Mensagem(row['Message'],row['Class']))\n",
    "\n",
    "    def Exec(self):\n",
    "        # Lógica para execução genérica\n",
    "        pass\n",
    "\n",
    "\n",
    "class BaseTreinamento(BaseMensagens):\n",
    "    def __init__(self):\n",
    "        super().__init__()\n",
    "\n",
    "    def Exec(self):\n",
    "        # Lógica específica de treinamento\n",
    "        pass\n",
    "\n",
    "class BaseTeste(BaseMensagens):\n",
    "    def __init__(self):\n",
    "        super().__init__()\n",
    "        self.Acuracidade = 0.0\n",
    "\n",
    "    def Exec(self):\n",
    "        # Lógica específica de teste\n",
    "        pass\n"
   ]
  },
  {
   "cell_type": "code",
   "execution_count": 69,
   "id": "4d30d23a-f8d0-4ee2-88f7-a2b4acfde53e",
   "metadata": {},
   "outputs": [],
   "source": [
    "spam_sms = pd.read_csv(path)"
   ]
  },
  {
   "cell_type": "code",
   "execution_count": 72,
   "id": "f5550084-e7e1-4e0f-b61b-ec976dd4a266",
   "metadata": {},
   "outputs": [],
   "source": [
    "base = BaseMensagens(spam_sms)"
   ]
  },
  {
   "cell_type": "code",
   "execution_count": 77,
   "id": "2b117dff-c143-4af8-8a10-6a54fc95a18e",
   "metadata": {},
   "outputs": [
    {
     "data": {
      "text/plain": [
       "5574"
      ]
     },
     "execution_count": 77,
     "metadata": {},
     "output_type": "execute_result"
    }
   ],
   "source": [
    "len(base.BaseMensagens)"
   ]
  },
  {
   "cell_type": "code",
   "execution_count": 78,
   "id": "02efc262-3794-4e5f-b3d8-18ee4559f7d0",
   "metadata": {},
   "outputs": [
    {
     "data": {
      "text/plain": [
       "5574"
      ]
     },
     "execution_count": 78,
     "metadata": {},
     "output_type": "execute_result"
    }
   ],
   "source": [
    "len(spam_sms)"
   ]
  },
  {
   "cell_type": "code",
   "execution_count": null,
   "id": "f963ad89-1ceb-4615-940b-6dcacac1e763",
   "metadata": {},
   "outputs": [],
   "source": []
  }
 ],
 "metadata": {
  "kernelspec": {
   "display_name": "Python 3 (ipykernel)",
   "language": "python",
   "name": "python3"
  },
  "language_info": {
   "codemirror_mode": {
    "name": "ipython",
    "version": 3
   },
   "file_extension": ".py",
   "mimetype": "text/x-python",
   "name": "python",
   "nbconvert_exporter": "python",
   "pygments_lexer": "ipython3",
   "version": "3.12.9"
  }
 },
 "nbformat": 4,
 "nbformat_minor": 5
}
